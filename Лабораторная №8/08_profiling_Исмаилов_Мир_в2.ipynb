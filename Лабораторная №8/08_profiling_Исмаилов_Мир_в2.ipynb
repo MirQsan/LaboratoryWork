{
 "cells": [
  {
   "attachments": {},
   "cell_type": "markdown",
   "metadata": {},
   "source": [
    "## Оптимизация выполнения кода, векторизация, Numba"
   ]
  },
  {
   "attachments": {},
   "cell_type": "markdown",
   "metadata": {},
   "source": [
    "Материалы:\n",
    "* Макрушин С.В. Лекция 3: Оптимизация выполнения кода, векторизация, Numba\n",
    "* IPython Cookbook, Second Edition (2018), глава 4\n",
    "* https://numba.pydata.org/numba-doc/latest/user/5minguide.html"
   ]
  },
  {
   "cell_type": "code",
   "execution_count": 2,
   "metadata": {},
   "outputs": [],
   "source": [
    "import random\n",
    "import pandas as pd\n",
    "import string\n",
    "import time\n"
   ]
  },
  {
   "attachments": {},
   "cell_type": "markdown",
   "metadata": {},
   "source": [
    "## Задачи для совместного разбора"
   ]
  },
  {
   "attachments": {},
   "cell_type": "markdown",
   "metadata": {},
   "source": [
    "1. Сгенерируйте массив `A` из `N=1млн` случайных целых чисел на отрезке от 0 до 1000. Пусть `B[i] = A[i] + 100`. Посчитайте среднее значение массива `B`."
   ]
  },
  {
   "cell_type": "code",
   "execution_count": 2,
   "metadata": {},
   "outputs": [
    {
     "name": "stdout",
     "output_type": "stream",
     "text": [
      "599.928091\n"
     ]
    }
   ],
   "source": [
    "N = 1000000\n",
    "A = [random.randint(0, 1000) for _ in range(N)]\n",
    "B = [a + 100 for a in A]\n",
    "srzB = sum(B) / N \n",
    "print(srzB)"
   ]
  },
  {
   "attachments": {},
   "cell_type": "markdown",
   "metadata": {},
   "source": [
    "2. Создайте таблицу 2млн строк и с 4 столбцами, заполненными случайными числами. Добавьте столбец `key`, которые содержит элементы из множества английских букв. Выберите из таблицы подмножество строк, для которых в столбце `key` указаны первые 5 английских букв."
   ]
  },
  {
   "cell_type": "code",
   "execution_count": 9,
   "metadata": {},
   "outputs": [
    {
     "name": "stdout",
     "output_type": "stream",
     "text": [
      "           Цифры1    Цифры2    Цифры3    Цифры4  Буквы\n",
      "0        0.872280  0.612722  0.868016  0.634420  ozluv\n",
      "1        0.331172  0.461838  0.997744  0.368127  ubufp\n",
      "2        0.792951  0.122124  0.017367  0.599376  xbiev\n",
      "3        0.939772  0.712012  0.179982  0.096605  dczfm\n",
      "4        0.051715  0.747909  0.130269  0.827119  ctogw\n",
      "...           ...       ...       ...       ...    ...\n",
      "1999995  0.159621  0.708859  0.737085  0.662575  afxzr\n",
      "1999996  0.871066  0.180411  0.336052  0.077756  vdaki\n",
      "1999997  0.593704  0.000739  0.427464  0.024195  eicno\n",
      "1999998  0.903016  0.449299  0.499921  0.835120  nhsxd\n",
      "1999999  0.357188  0.723243  0.774772  0.850451  hlhnv\n",
      "\n",
      "[2000000 rows x 5 columns]\n",
      "Empty DataFrame\n",
      "Columns: [Цифры1, Цифры2, Цифры3, Цифры4, Буквы]\n",
      "Index: []\n"
     ]
    }
   ],
   "source": [
    "# создаем таблицу\n",
    "n_rows = 2000000\n",
    "df = pd.DataFrame({'Цифры1': [random.random() for _ in range(n_rows)],\n",
    "                   'Цифры2': [random.random() for _ in range(n_rows)],\n",
    "                   'Цифры3': [random.random() for _ in range(n_rows)],\n",
    "                   'Цифры4': [random.random() for _ in range(n_rows)]})\n",
    "\n",
    "# добавляем столбец key со случайными английскими буквами\n",
    "def random_letter():\n",
    "    return random.choice(string.ascii_lowercase)\n",
    "\n",
    "df['Буквы'] = [''.join([random_letter() for _ in range(5)]) for _ in range(n_rows)]\n",
    "\n",
    "# выбираем подмножество строк с первыми 5 буквами в столбце key\n",
    "subset = df[df['Буквы'].str[:5] == 'abcde']\n",
    "\n",
    "print(df)\n",
    "print(subset)"
   ]
  },
  {
   "attachments": {},
   "cell_type": "markdown",
   "metadata": {},
   "source": [
    "## Лабораторная работа 3"
   ]
  },
  {
   "attachments": {},
   "cell_type": "markdown",
   "metadata": {},
   "source": [
    "1. В файлах `recipes_sample.csv` и `reviews_sample.csv` (__ЛР 2__) находится информация об рецептах блюд и отзывах на эти рецепты соответственно. Загрузите данные из файлов в виде `pd.DataFrame` с названиями `recipes` и `reviews`. Обратите внимание на корректное считывание столбца(ов) с индексами. Приведите столбцы к нужным типам.\n",
    "\n",
    "Реализуйте несколько вариантов функции подсчета среднего значения столбца `rating` из таблицы `reviews` для отзывов, оставленных в 2010 году.\n",
    "\n",
    "A. С использованием метода `DataFrame.iterrows` исходной таблицы;\n",
    "\n",
    "Б. С использованием метода `DataFrame.iterrows` таблицы, в которой сохранены только отзывы за 2010 год;\n",
    "\n",
    "В. С использованием метода `Series.mean`.\n",
    "\n",
    "Проверьте, что результаты работы всех написанных функций корректны и совпадают. Измерьте выполнения всех написанных функций.\n"
   ]
  },
  {
   "cell_type": "code",
   "execution_count": 9,
   "metadata": {},
   "outputs": [
    {
     "name": "stdout",
     "output_type": "stream",
     "text": [
      "            user_id  recipe_id       date  rating  \\\n",
      "370476        21752      57993 2003-05-01     5.0   \n",
      "624300       431813     142201 2007-09-16     5.0   \n",
      "187037       400708     252013 2008-01-10     4.0   \n",
      "706134   2001852463     404716 2017-12-11     5.0   \n",
      "312179        95810     129396 2008-03-14     5.0   \n",
      "...             ...        ...        ...     ...   \n",
      "1013457     1270706     335534 2009-05-17     4.0   \n",
      "158736      2282344       8701 2012-06-03     0.0   \n",
      "1059834      689540     222001 2008-04-08     5.0   \n",
      "453285   2000242659     354979 2015-06-02     5.0   \n",
      "691207       463435     415599 2010-09-30     5.0   \n",
      "\n",
      "                                                    review  \n",
      "370476   Last week whole sides of frozen salmon fillet ...  \n",
      "624300   So simple and so tasty!  I used a yellow capsi...  \n",
      "187037   Very nice breakfast HH, easy to make and yummy...  \n",
      "706134   These are a favorite for the holidays and so e...  \n",
      "312179   Excellent soup!  The tomato flavor is just gre...  \n",
      "...                                                    ...  \n",
      "1013457  This recipe was great! I made it last night. I...  \n",
      "158736   This recipe is outstanding. I followed the rec...  \n",
      "1059834  Well, we were not a crowd but it was a fabulou...  \n",
      "453285   I have been a steak eater and dedicated BBQ gr...  \n",
      "691207   Wonderful and simple to prepare seasoning blen...  \n",
      "\n",
      "[126696 rows x 5 columns]\n"
     ]
    }
   ],
   "source": [
    "# загрузка данных\n",
    "recipes = pd.read_csv('recipes_sample.csv', index_col=0)\n",
    "reviews = pd.read_csv('reviews_sample.csv', index_col=0)\n",
    "\n",
    "# приводим столбцы к нужному типу\n",
    "reviews['date'] = pd.to_datetime(reviews['date'])\n",
    "reviews['rating'] = reviews['rating'].astype(float)\n",
    "\n",
    "print(reviews)\n",
    "\n",
    "\n",
    "# функция подсчета среднего значения с использованием метода DataFrame.iterrows исходной таблицы\n",
    "def mean_rating_iterrows(reviews):\n",
    "    total = 0\n",
    "    count = 0\n",
    "    for index, row in reviews.iterrows():\n",
    "        if row['date'].year == 2010:\n",
    "            total += row['rating']\n",
    "            count += 1\n",
    "        if count > 0:\n",
    "            return total/count\n",
    "        else:\n",
    "            return 0\n",
    "# функция подсчета среднего значения с использованием метода DataFrame.iterrows таблицы, в которой сохранены только отзывы за 2010 год\n",
    "def mean_rating_iterrows_2010(reviews):\n",
    "    total = 0\n",
    "    count = 0\n",
    "    for index, row in reviews[reviews['date'].dt.year == 2010].iterrows():\n",
    "        total += row['rating']\n",
    "        count += 1\n",
    "        if count > 0:\n",
    "            return total/count\n",
    "        else:\n",
    "            return 0\n",
    "        \n",
    "# функция подсчета среднего значения с использованием метода Series.mean\n",
    "def mean_rating_mean(reviews):\n",
    "    return reviews[reviews['date'].dt.year == 2010]['rating'].mean()\n",
    "\n",
    "# проверка корректности работы функций и измерение времени выполнения\n",
    "start_time = time.time()\n",
    "result_1 = mean_rating_iterrows(reviews)\n",
    "print(f\"Результат функции mean_rating_iterrows: {result_1}, время выполнения: {time.time() - start_time} сек\")\n",
    "\n",
    "start_time = time.time()\n",
    "result_2 = mean_rating_iterrows_2010(reviews)\n",
    "print(f\"Результат функции mean_rating_iterrows_2010: {result_2}, время выполнения: {time.time() - start_time} сек\")\n",
    "\n",
    "start_time = time.time()\n",
    "result_3 = mean_rating_mean(reviews)\n",
    "print(f\"Результат функции mean_rating_mean: {result_3}, время выполнения: {time.time() - start_time} сек\")\n",
    "\n",
    "assert round(result_1, 2) == 2.92\n",
    "assert round(result_2, 2) == 2.92\n",
    "assert round(result_3, 2) == 2.92 "
   ]
  },
  {
   "attachments": {},
   "cell_type": "markdown",
   "metadata": {},
   "source": [
    "2. Какая из созданных функций выполняется медленнее? Что наиболее сильно влияет на скорость выполнения? Для ответа использовать профайлер `line_profiler`. Сохраните результаты работы профайлера в отдельную текстовую ячейку и прокомментируйте результаты его работы.\n",
    "\n",
    "(*). Сможете ли вы ускорить работу функции 1Б, отказавшись от использования метода `iterrows`, но не используя метод `mean`?"
   ]
  },
  {
   "attachments": {},
   "cell_type": "markdown",
   "metadata": {},
   "source": [
    "3. Вам предлагается воспользоваться функцией, которая собирает статистику о том, сколько отзывов содержат то или иное слово. Измерьте время выполнения этой функции. Сможете ли вы найти узкие места в коде, используя профайлер? Выпишите (словами), что в имеющемся коде реализовано неоптимально. Оптимизируйте функцию и добейтесь значительного (как минимум, на один порядок) прироста в скорости выполнения."
   ]
  },
  {
   "cell_type": "code",
   "execution_count": 10,
   "metadata": {},
   "outputs": [],
   "source": [
    "def get_word_reviews_count(df):\n",
    "    word_reviews = {}\n",
    "    for _, row in df.dropna(subset=['review']).iterrows():\n",
    "        recipe_id, review = row['recipe_id'], row['review']\n",
    "        words = review.split(' ')\n",
    "        for word in words:\n",
    "            if word not in word_reviews:\n",
    "                word_reviews[word] = []\n",
    "            word_reviews[word].append(recipe_id)\n",
    "    \n",
    "    word_reviews_count = {}\n",
    "    for _, row in df.dropna(subset=['review']).iterrows():\n",
    "        review = row['review']\n",
    "        words = review.split(' ')\n",
    "        for word in words:\n",
    "            word_reviews_count[word] = len(word_reviews[word])\n",
    "    return word_reviews_count"
   ]
  },
  {
   "attachments": {},
   "cell_type": "markdown",
   "metadata": {},
   "source": [
    "4. Напишите несколько версий функции `MAPE` (см. [MAPE](https://en.wikipedia.org/wiki/Mean_absolute_percentage_error)) для расчета среднего абсолютного процентного отклонения значения рейтинга отзыва на рецепт от среднего значения рейтинга по всем отзывам для этого рецепта. \n",
    "    1. Без использования векторизованных операций и методов массивов `numpy` и без использования `numba`\n",
    "    2. Без использования векторизованных операций и методов массивов `numpy`, но с использованием `numba`\n",
    "    3. С использованием векторизованных операций и методов массивов `numpy`, но без использования `numba`\n",
    "    4. C использованием векторизованных операций и методов массивов `numpy` и `numba`\n",
    "    \n",
    "Измерьте время выполнения каждой из реализаций.\n",
    "\n",
    "Замечание: удалите из выборки отзывы с нулевым рейтингом.\n"
   ]
  },
  {
   "cell_type": "code",
   "execution_count": null,
   "metadata": {},
   "outputs": [],
   "source": []
  },
  {
   "cell_type": "code",
   "execution_count": null,
   "metadata": {},
   "outputs": [],
   "source": []
  },
  {
   "attachments": {},
   "cell_type": "markdown",
   "metadata": {},
   "source": [
    "#### [версия 2]\n",
    "* Уточнены формулировки задач 1, 3, 4"
   ]
  },
  {
   "cell_type": "code",
   "execution_count": null,
   "metadata": {},
   "outputs": [],
   "source": []
  }
 ],
 "metadata": {
  "kernelspec": {
   "display_name": "Python 3",
   "language": "python",
   "name": "python3"
  },
  "language_info": {
   "codemirror_mode": {
    "name": "ipython",
    "version": 3
   },
   "file_extension": ".py",
   "mimetype": "text/x-python",
   "name": "python",
   "nbconvert_exporter": "python",
   "pygments_lexer": "ipython3",
   "version": "3.11.1"
  }
 },
 "nbformat": 4,
 "nbformat_minor": 4
}
