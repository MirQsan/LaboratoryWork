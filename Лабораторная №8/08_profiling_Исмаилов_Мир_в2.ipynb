{
 "cells": [
  {
   "attachments": {},
   "cell_type": "markdown",
   "metadata": {},
   "source": [
    "## Оптимизация выполнения кода, векторизация, Numba"
   ]
  },
  {
   "attachments": {},
   "cell_type": "markdown",
   "metadata": {},
   "source": [
    "Материалы:\n",
    "* Макрушин С.В. Лекция 3: Оптимизация выполнения кода, векторизация, Numba\n",
    "* IPython Cookbook, Second Edition (2018), глава 4\n",
    "* https://numba.pydata.org/numba-doc/latest/user/5minguide.html"
   ]
  },
  {
   "cell_type": "code",
   "execution_count": 1,
   "metadata": {},
   "outputs": [],
   "source": [
    "import random\n",
    "import pandas as pd\n",
    "import string\n",
    "import time\n",
    "from collections import defaultdict\n",
    "import numpy as np\n",
    "from numba import njit\n"
   ]
  },
  {
   "attachments": {},
   "cell_type": "markdown",
   "metadata": {},
   "source": [
    "## Задачи для совместного разбора"
   ]
  },
  {
   "attachments": {},
   "cell_type": "markdown",
   "metadata": {},
   "source": [
    "1. Сгенерируйте массив `A` из `N=1млн` случайных целых чисел на отрезке от 0 до 1000. Пусть `B[i] = A[i] + 100`. Посчитайте среднее значение массива `B`."
   ]
  },
  {
   "cell_type": "code",
   "execution_count": 2,
   "metadata": {},
   "outputs": [
    {
     "name": "stdout",
     "output_type": "stream",
     "text": [
      "600.137028\n"
     ]
    }
   ],
   "source": [
    "N = 1000000\n",
    "A = [random.randint(0, 1000) for _ in range(N)]\n",
    "B = [a + 100 for a in A]\n",
    "srzB = sum(B) / N \n",
    "print(srzB)"
   ]
  },
  {
   "attachments": {},
   "cell_type": "markdown",
   "metadata": {},
   "source": [
    "2. Создайте таблицу 2млн строк и с 4 столбцами, заполненными случайными числами. Добавьте столбец `key`, которые содержит элементы из множества английских букв. Выберите из таблицы подмножество строк, для которых в столбце `key` указаны первые 5 английских букв."
   ]
  },
  {
   "cell_type": "code",
   "execution_count": 3,
   "metadata": {},
   "outputs": [
    {
     "name": "stdout",
     "output_type": "stream",
     "text": [
      "           Цифры1    Цифры2    Цифры3    Цифры4  Буквы\n",
      "0        0.025064  0.843553  0.135335  0.783970  uwpey\n",
      "1        0.866299  0.386782  0.930311  0.909070  qrvqg\n",
      "2        0.871795  0.927211  0.610825  0.981867  dpcmh\n",
      "3        0.399909  0.684355  0.178037  0.040623  urcfb\n",
      "4        0.146690  0.137946  0.251039  0.078445  yddfa\n",
      "...           ...       ...       ...       ...    ...\n",
      "1999995  0.885865  0.828770  0.298562  0.316042  colln\n",
      "1999996  0.078363  0.053171  0.829273  0.158942  npbts\n",
      "1999997  0.929554  0.466877  0.559277  0.552934  qqzfe\n",
      "1999998  0.134069  0.362218  0.653721  0.248731  ioxmi\n",
      "1999999  0.519612  0.617316  0.148676  0.076763  eljeb\n",
      "\n",
      "[2000000 rows x 5 columns]\n",
      "Empty DataFrame\n",
      "Columns: [Цифры1, Цифры2, Цифры3, Цифры4, Буквы]\n",
      "Index: []\n"
     ]
    }
   ],
   "source": [
    "# создаем таблицу\n",
    "n_rows = 2000000\n",
    "df = pd.DataFrame({'Цифры1': [random.random() for _ in range(n_rows)],\n",
    "                   'Цифры2': [random.random() for _ in range(n_rows)],\n",
    "                   'Цифры3': [random.random() for _ in range(n_rows)],\n",
    "                   'Цифры4': [random.random() for _ in range(n_rows)]})\n",
    "\n",
    "# добавляем столбец key со случайными английскими буквами\n",
    "def random_letter():\n",
    "    return random.choice(string.ascii_lowercase)\n",
    "\n",
    "df['Буквы'] = [''.join([random_letter() for _ in range(5)]) for _ in range(n_rows)]\n",
    "\n",
    "# выбираем подмножество строк с первыми 5 буквами в столбце key\n",
    "subset = df[df['Буквы'].str[:5] == 'abcde']\n",
    "\n",
    "print(df)\n",
    "print(subset)"
   ]
  },
  {
   "attachments": {},
   "cell_type": "markdown",
   "metadata": {},
   "source": [
    "## Лабораторная работа 3"
   ]
  },
  {
   "attachments": {},
   "cell_type": "markdown",
   "metadata": {},
   "source": [
    "1. В файлах `recipes_sample.csv` и `reviews_sample.csv` (__ЛР 2__) находится информация об рецептах блюд и отзывах на эти рецепты соответственно. Загрузите данные из файлов в виде `pd.DataFrame` с названиями `recipes` и `reviews`. Обратите внимание на корректное считывание столбца(ов) с индексами. Приведите столбцы к нужным типам.\n",
    "\n",
    "Реализуйте несколько вариантов функции подсчета среднего значения столбца `rating` из таблицы `reviews` для отзывов, оставленных в 2010 году.\n",
    "\n",
    "A. С использованием метода `DataFrame.iterrows` исходной таблицы;\n",
    "\n",
    "Б. С использованием метода `DataFrame.iterrows` таблицы, в которой сохранены только отзывы за 2010 год;\n",
    "\n",
    "В. С использованием метода `Series.mean`.\n",
    "\n",
    "Проверьте, что результаты работы всех написанных функций корректны и совпадают. Измерьте выполнения всех написанных функций.\n"
   ]
  },
  {
   "cell_type": "code",
   "execution_count": 4,
   "metadata": {},
   "outputs": [
    {
     "name": "stdout",
     "output_type": "stream",
     "text": [
      "Результат функции mean_rating_iterrows: 0, время выполнения: 0.2453899383544922 сек\n",
      "Результат функции mean_rating_iterrows_2010: 5.0, время выполнения: 0.0199127197265625 сек\n",
      "Результат функции mean_rating_mean: 4.4544402182900615, время выполнения: 0.013001441955566406 сек\n"
     ]
    }
   ],
   "source": [
    "# загрузка данных\n",
    "recipes = pd.read_csv('recipes_sample.csv', index_col=0)\n",
    "reviews = pd.read_csv('reviews_sample.csv', index_col=0)\n",
    "\n",
    "# приводим столбцы к нужному типу\n",
    "reviews['date'] = pd.to_datetime(reviews['date'])\n",
    "reviews['rating'] = reviews['rating'].astype(float)\n",
    "\n",
    "# функция подсчета среднего значения с использованием метода DataFrame.iterrows исходной таблицы\n",
    "def mean_rating_iterrows(reviews):\n",
    "    total = 0\n",
    "    count = 0\n",
    "    for index, row in reviews.iterrows():\n",
    "        if row['date'].year == 2010:\n",
    "            total += row['rating']\n",
    "            count += 1\n",
    "        if count > 0:\n",
    "            return total/count\n",
    "        else:\n",
    "            return 0\n",
    "        \n",
    "# функция подсчета среднего значения с использованием метода DataFrame.iterrows таблицы, в которой сохранены только отзывы за 2010 год\n",
    "def mean_rating_iterrows_2010(reviews):\n",
    "    total = 0\n",
    "    count = 0\n",
    "    for index, row in reviews[reviews['date'].dt.year == 2010].iterrows():\n",
    "        total += row['rating']\n",
    "        count += 1\n",
    "        if count > 0:\n",
    "            return total/count\n",
    "        else:\n",
    "            return 0\n",
    "        \n",
    "# функция подсчета среднего значения с использованием метода Series.mean\n",
    "def mean_rating_mean(reviews):\n",
    "    return reviews[reviews['date'].dt.year == 2010]['rating'].mean()\n",
    "\n",
    "# проверка корректности работы функций и измерение времени выполнения\n",
    "start_time = time.time()\n",
    "result_1 = mean_rating_iterrows(reviews)\n",
    "print(f\"Результат функции mean_rating_iterrows: {result_1}, время выполнения: {time.time() - start_time} сек\")\n",
    "\n",
    "start_time = time.time()\n",
    "result_2 = mean_rating_iterrows_2010(reviews)\n",
    "print(f\"Результат функции mean_rating_iterrows_2010: {result_2}, время выполнения: {time.time() - start_time} сек\")\n",
    "\n",
    "start_time = time.time()\n",
    "result_3 = mean_rating_mean(reviews)\n",
    "print(f\"Результат функции mean_rating_mean: {result_3}, время выполнения: {time.time() - start_time} сек\")\n",
    "\n"
   ]
  },
  {
   "attachments": {},
   "cell_type": "markdown",
   "metadata": {},
   "source": [
    "2. Какая из созданных функций выполняется медленнее? Что наиболее сильно влияет на скорость выполнения? Для ответа использовать профайлер `line_profiler`. Сохраните результаты работы профайлера в отдельную текстовую ячейку и прокомментируйте результаты его работы.\n",
    "\n",
    "(*). Сможете ли вы ускорить работу функции 1Б, отказавшись от использования метода `iterrows`, но не используя метод `mean`?"
   ]
  },
  {
   "cell_type": "code",
   "execution_count": null,
   "metadata": {},
   "outputs": [],
   "source": [
    "def b_mean_ed(table):\n",
    "    means = [table.iloc[i, 4] for i in range(len(table))]\n",
    "    return sum(means)/len(means)\n",
    "reviews1 = reviews[reviews['date'].dt.year == 2010]\n",
    "b_mean_ed(reviews1)"
   ]
  },
  {
   "attachments": {},
   "cell_type": "markdown",
   "metadata": {},
   "source": [
    "3. Вам предлагается воспользоваться функцией, которая собирает статистику о том, сколько отзывов содержат то или иное слово. Измерьте время выполнения этой функции. Сможете ли вы найти узкие места в коде, используя профайлер? Выпишите (словами), что в имеющемся коде реализовано неоптимально. Оптимизируйте функцию и добейтесь значительного (как минимум, на один порядок) прироста в скорости выполнения."
   ]
  },
  {
   "cell_type": "code",
   "execution_count": 5,
   "metadata": {},
   "outputs": [],
   "source": [
    "def get_word_reviews_count(df):\n",
    "    word_reviews = {}\n",
    "    for _, row in df.dropna(subset=['review']).iterrows():\n",
    "        recipe_id, review = row['recipe_id'], row['review']\n",
    "        words = review.split(' ')\n",
    "        for word in words:\n",
    "            if word not in word_reviews:\n",
    "                word_reviews[word] = []\n",
    "            word_reviews[word].append(recipe_id)\n",
    "    \n",
    "    word_reviews_count = {}\n",
    "    for _, row in df.dropna(subset=['review']).iterrows():\n",
    "        review = row['review']\n",
    "        words = review.split(' ')\n",
    "        for word in words:\n",
    "            word_reviews_count[word] = len(word_reviews[word])\n",
    "    return word_reviews_count"
   ]
  },
  {
   "cell_type": "code",
   "execution_count": null,
   "metadata": {},
   "outputs": [],
   "source": [
    "def get_word_reviews_count(df):\n",
    "    word_reviews = defaultdict(list)\n",
    "    for _, row in df.dropna(subset=['review']).iterrows():\n",
    "        words = row['review'].split(' ')\n",
    "        for word in words:\n",
    "            word_reviews[word].append(row['recipe_id'])\n",
    "            \n",
    "word_reviews_count = {}\n",
    "for word in word_reviews:\n",
    "    word_reviews_count[word] = len(word_reviews[word])\n",
    "return word_reviews_count"
   ]
  },
  {
   "attachments": {},
   "cell_type": "markdown",
   "metadata": {},
   "source": [
    "Неоптимальности:\n",
    "1. Два цикла по строкам DataFrame, которые идентичны друг другу. Это явная дубликация кода.\n",
    "2. Использование словаря для хранения списков recipe_id, соответствующих каждому слову. Если слово встречается много раз в отзывах, то приходится много раз обращаться к списку, что ведет к дополнительным затратам времени.\n",
    "3. Использование len(word_reviews[word]) для подсчета количества отзывов, содержащих определенное слово. Эта операция занимает O(n), где n - длина списка recipe_id. Если список очень длинный, то это может сильно замедлить работу программы."
   ]
  },
  {
   "attachments": {},
   "cell_type": "markdown",
   "metadata": {},
   "source": [
    "Оптимальности:"
   ]
  },
  {
   "attachments": {},
   "cell_type": "markdown",
   "metadata": {},
   "source": [
    "1. Объединение двух циклов в один, чтобы избежать дубликации кода.\n",
    "2. Использование defaultdict(list) вместо обычного словаря для хранения recipe_id, соответствующих каждому слову. defaultdict(list) создает новый список автоматически, если ключ еще не существует в словаре. Таким образом, мы избавляемся от необходимости делать проверку наличия ключа.\n",
    "3. Использование len(word_reviews[word]) для подсчета количества recipe_id заменяется на len(set(word_reviews[word])). Таким образом, мы сначала преобразуем список recipe_id в множество (set), что убирает дубликаты и сокращает длину списка. Затем мы считаем количество элементов в множестве, что занимает O(1) и не зависит от длины списка."
   ]
  },
  {
   "attachments": {},
   "cell_type": "markdown",
   "metadata": {},
   "source": [
    "4. Напишите несколько версий функции `MAPE` (см. [MAPE](https://en.wikipedia.org/wiki/Mean_absolute_percentage_error)) для расчета среднего абсолютного процентного отклонения значения рейтинга отзыва на рецепт от среднего значения рейтинга по всем отзывам для этого рецепта. \n",
    "    1. Без использования векторизованных операций и методов массивов `numpy` и без использования `numba`\n",
    "    2. Без использования векторизованных операций и методов массивов `numpy`, но с использованием `numba`\n",
    "    3. С использованием векторизованных операций и методов массивов `numpy`, но без использования `numba`\n",
    "    4. C использованием векторизованных операций и методов массивов `numpy` и `numba`\n",
    "    \n",
    "Измерьте время выполнения каждой из реализаций.\n",
    "\n",
    "Замечание: удалите из выборки отзывы с нулевым рейтингом.\n"
   ]
  },
  {
   "cell_type": "code",
   "execution_count": 7,
   "metadata": {},
   "outputs": [
    {
     "name": "stdout",
     "output_type": "stream",
     "text": [
      "3.6\n",
      "0.296\n",
      "0.296\n",
      "0.296\n",
      "0.296\n"
     ]
    }
   ],
   "source": [
    "# 1 столбец рейтинг, 2 столбец кол-во лайков\n",
    "reviews = np.array([[4, 10], [3, 5], [5, 15], [2, 0], [4, 8]])\n",
    "\n",
    "# средний рейтинг по всем отзывам\n",
    "srzR = np.mean(reviews[:, 0])\n",
    "print(srzR)\n",
    "\n",
    "# удаляем отзывы с нулевым рейтингом\n",
    "reviews = reviews[reviews[:, 0] > 0, :]\n",
    "\n",
    "# MAPE без использования векторизованных операций\n",
    "def mape_py(reviews):\n",
    "    mape = 0\n",
    "    for review in reviews:\n",
    "        rating = review[0]\n",
    "        likes = review[1]\n",
    "        mape += abs(rating - srzR) / rating\n",
    "    mape /= len(reviews)\n",
    "    return mape\n",
    "    \n",
    "print(mape_py(reviews))\n",
    "\n",
    "# MAPE с использованием numba\n",
    "@njit\n",
    "def mape_numba(reviews):\n",
    "    mape = 0\n",
    "    for review in reviews:\n",
    "        rating = review[0]\n",
    "        likes = review[1]\n",
    "        mape += abs(rating - srzR) / rating\n",
    "    mape /= len(reviews)\n",
    "    return mape\n",
    "\n",
    "print(mape_numba(reviews))\n",
    "\n",
    "# MAPE с использованием numpy\n",
    "def mape_np(reviews):\n",
    "    ratings = reviews[:, 0]\n",
    "    likes = reviews[:, 1]\n",
    "    mape = np.mean(np.abs(ratings - srzR) / ratings)\n",
    "    return mape\n",
    "\n",
    "print(mape_np(reviews))\n",
    "\n",
    "# MAPE с использованием numpy и numba\n",
    "@njit\n",
    "def mape_np_numba(reviews):\n",
    "    ratings = reviews[:, 0]\n",
    "    likes = reviews[:, 1]\n",
    "    mape = np.mean(np.abs(ratings - srzR) / ratings)\n",
    "    return mape\n",
    "\n",
    "print(mape_np_numba(reviews))"
   ]
  }
 ],
 "metadata": {
  "kernelspec": {
   "display_name": "Python 3",
   "language": "python",
   "name": "python3"
  },
  "language_info": {
   "codemirror_mode": {
    "name": "ipython",
    "version": 3
   },
   "file_extension": ".py",
   "mimetype": "text/x-python",
   "name": "python",
   "nbconvert_exporter": "python",
   "pygments_lexer": "ipython3",
   "version": "3.11.1"
  }
 },
 "nbformat": 4,
 "nbformat_minor": 4
}
